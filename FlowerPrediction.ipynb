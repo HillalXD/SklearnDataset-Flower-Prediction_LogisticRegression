{
 "cells": [
  {
   "attachments": {},
   "cell_type": "markdown",
   "metadata": {},
   "source": [
    "Make classification with Linear regression with iris dataset from sklearn"
   ]
  },
  {
   "cell_type": "code",
   "execution_count": 56,
   "metadata": {},
   "outputs": [],
   "source": [
    "#import module\n",
    "import pandas as pd\n",
    "from sklearn.datasets import load_iris\n",
    "from sklearn.model_selection import train_test_split\n",
    "from sklearn.linear_model import LogisticRegression\n",
    "\n",
    "#dataframe module setup\n",
    "irish = load_iris()\n",
    "\n",
    "#features target split\n",
    "dir(irish)\n",
    "xtr, xte, ytr, yte = train_test_split(irish.data, irish.target, test_size=.3)"
   ]
  },
  {
   "attachments": {},
   "cell_type": "markdown",
   "metadata": {},
   "source": [
    "Do gridsearch directly, because datasets from sklearn ready to train in machine learning algorithm, so we dont need to clean it first"
   ]
  },
  {
   "cell_type": "code",
   "execution_count": 53,
   "metadata": {},
   "outputs": [
    {
     "name": "stdout",
     "output_type": "stream",
     "text": [
      "Best: 0.980000 using {'C': 50, 'penalty': 'l2', 'solver': 'lbfgs'}\n",
      "0.977778 (0.031427) with: {'C': 70, 'penalty': 'l2', 'solver': 'newton-cg'}\n",
      "0.977778 (0.031427) with: {'C': 70, 'penalty': 'l2', 'solver': 'lbfgs'}\n",
      "0.971111 (0.041036) with: {'C': 70, 'penalty': 'l2', 'solver': 'liblinear'}\n",
      "0.000000 (0.000000) with: {'C': 70, 'penalty': 'l1', 'solver': 'newton-cg'}\n",
      "0.000000 (0.000000) with: {'C': 70, 'penalty': 'l1', 'solver': 'lbfgs'}\n",
      "0.962222 (0.037251) with: {'C': 70, 'penalty': 'l1', 'solver': 'liblinear'}\n",
      "0.977778 (0.031427) with: {'C': 100, 'penalty': 'l2', 'solver': 'newton-cg'}\n",
      "0.977778 (0.031427) with: {'C': 100, 'penalty': 'l2', 'solver': 'lbfgs'}\n",
      "0.968889 (0.041216) with: {'C': 100, 'penalty': 'l2', 'solver': 'liblinear'}\n",
      "0.000000 (0.000000) with: {'C': 100, 'penalty': 'l1', 'solver': 'newton-cg'}\n",
      "0.000000 (0.000000) with: {'C': 100, 'penalty': 'l1', 'solver': 'lbfgs'}\n",
      "0.960000 (0.040734) with: {'C': 100, 'penalty': 'l1', 'solver': 'liblinear'}\n",
      "0.977778 (0.031427) with: {'C': 60, 'penalty': 'l2', 'solver': 'newton-cg'}\n",
      "0.977778 (0.031427) with: {'C': 60, 'penalty': 'l2', 'solver': 'lbfgs'}\n",
      "0.971111 (0.041036) with: {'C': 60, 'penalty': 'l2', 'solver': 'liblinear'}\n",
      "0.000000 (0.000000) with: {'C': 60, 'penalty': 'l1', 'solver': 'newton-cg'}\n",
      "0.000000 (0.000000) with: {'C': 60, 'penalty': 'l1', 'solver': 'lbfgs'}\n",
      "0.962222 (0.037251) with: {'C': 60, 'penalty': 'l1', 'solver': 'liblinear'}\n",
      "0.977778 (0.031427) with: {'C': 50, 'penalty': 'l2', 'solver': 'newton-cg'}\n",
      "0.980000 (0.030551) with: {'C': 50, 'penalty': 'l2', 'solver': 'lbfgs'}\n",
      "0.971111 (0.041036) with: {'C': 50, 'penalty': 'l2', 'solver': 'liblinear'}\n",
      "0.000000 (0.000000) with: {'C': 50, 'penalty': 'l1', 'solver': 'newton-cg'}\n",
      "0.000000 (0.000000) with: {'C': 50, 'penalty': 'l1', 'solver': 'lbfgs'}\n",
      "0.962222 (0.037251) with: {'C': 50, 'penalty': 'l1', 'solver': 'liblinear'}\n",
      "0.977778 (0.031427) with: {'C': 20, 'penalty': 'l2', 'solver': 'newton-cg'}\n",
      "0.977778 (0.031427) with: {'C': 20, 'penalty': 'l2', 'solver': 'lbfgs'}\n",
      "0.968889 (0.037450) with: {'C': 20, 'penalty': 'l2', 'solver': 'liblinear'}\n",
      "0.000000 (0.000000) with: {'C': 20, 'penalty': 'l1', 'solver': 'newton-cg'}\n",
      "0.000000 (0.000000) with: {'C': 20, 'penalty': 'l1', 'solver': 'lbfgs'}\n",
      "0.962222 (0.037251) with: {'C': 20, 'penalty': 'l1', 'solver': 'liblinear'}\n",
      "0.977778 (0.031427) with: {'C': 30, 'penalty': 'l2', 'solver': 'newton-cg'}\n",
      "0.980000 (0.030551) with: {'C': 30, 'penalty': 'l2', 'solver': 'lbfgs'}\n",
      "0.968889 (0.041216) with: {'C': 30, 'penalty': 'l2', 'solver': 'liblinear'}\n",
      "0.000000 (0.000000) with: {'C': 30, 'penalty': 'l1', 'solver': 'newton-cg'}\n",
      "0.000000 (0.000000) with: {'C': 30, 'penalty': 'l1', 'solver': 'lbfgs'}\n",
      "0.962222 (0.037251) with: {'C': 30, 'penalty': 'l1', 'solver': 'liblinear'}\n",
      "0.973333 (0.032660) with: {'C': 10, 'penalty': 'l2', 'solver': 'newton-cg'}\n",
      "0.973333 (0.032660) with: {'C': 10, 'penalty': 'l2', 'solver': 'lbfgs'}\n",
      "0.966667 (0.037515) with: {'C': 10, 'penalty': 'l2', 'solver': 'liblinear'}\n",
      "0.000000 (0.000000) with: {'C': 10, 'penalty': 'l1', 'solver': 'newton-cg'}\n",
      "0.000000 (0.000000) with: {'C': 10, 'penalty': 'l1', 'solver': 'lbfgs'}\n",
      "0.957778 (0.040307) with: {'C': 10, 'penalty': 'l1', 'solver': 'liblinear'}\n",
      "0.964444 (0.041216) with: {'C': 1.0, 'penalty': 'l2', 'solver': 'newton-cg'}\n",
      "0.964444 (0.041216) with: {'C': 1.0, 'penalty': 'l2', 'solver': 'lbfgs'}\n",
      "0.962222 (0.041036) with: {'C': 1.0, 'penalty': 'l2', 'solver': 'liblinear'}\n",
      "0.000000 (0.000000) with: {'C': 1.0, 'penalty': 'l1', 'solver': 'newton-cg'}\n",
      "0.000000 (0.000000) with: {'C': 1.0, 'penalty': 'l1', 'solver': 'lbfgs'}\n",
      "0.960000 (0.036918) with: {'C': 1.0, 'penalty': 'l1', 'solver': 'liblinear'}\n",
      "0.957778 (0.050136) with: {'C': 0.1, 'penalty': 'l2', 'solver': 'newton-cg'}\n",
      "0.957778 (0.050136) with: {'C': 0.1, 'penalty': 'l2', 'solver': 'lbfgs'}\n",
      "0.842222 (0.071974) with: {'C': 0.1, 'penalty': 'l2', 'solver': 'liblinear'}\n",
      "0.000000 (0.000000) with: {'C': 0.1, 'penalty': 'l1', 'solver': 'newton-cg'}\n",
      "0.000000 (0.000000) with: {'C': 0.1, 'penalty': 'l1', 'solver': 'lbfgs'}\n",
      "0.804444 (0.066518) with: {'C': 0.1, 'penalty': 'l1', 'solver': 'liblinear'}\n",
      "0.873333 (0.083178) with: {'C': 0.01, 'penalty': 'l2', 'solver': 'newton-cg'}\n",
      "0.873333 (0.083178) with: {'C': 0.01, 'penalty': 'l2', 'solver': 'lbfgs'}\n",
      "0.666667 (0.000000) with: {'C': 0.01, 'penalty': 'l2', 'solver': 'liblinear'}\n",
      "0.000000 (0.000000) with: {'C': 0.01, 'penalty': 'l1', 'solver': 'newton-cg'}\n",
      "0.000000 (0.000000) with: {'C': 0.01, 'penalty': 'l1', 'solver': 'lbfgs'}\n",
      "0.333333 (0.000000) with: {'C': 0.01, 'penalty': 'l1', 'solver': 'liblinear'}\n"
     ]
    },
    {
     "name": "stderr",
     "output_type": "stream",
     "text": [
      "c:\\Users\\hilla\\anaconda3\\lib\\site-packages\\sklearn\\linear_model\\_logistic.py:763: ConvergenceWarning: lbfgs failed to converge (status=1):\n",
      "STOP: TOTAL NO. of ITERATIONS REACHED LIMIT.\n",
      "\n",
      "Increase the number of iterations (max_iter) or scale the data as shown in:\n",
      "    https://scikit-learn.org/stable/modules/preprocessing.html\n",
      "Please also refer to the documentation for alternative solver options:\n",
      "    https://scikit-learn.org/stable/modules/linear_model.html#logistic-regression\n",
      "  n_iter_i = _check_optimize_result(\n"
     ]
    }
   ],
   "source": [
    "from sklearn.model_selection import RepeatedStratifiedKFold\n",
    "from sklearn.model_selection import GridSearchCV\n",
    "\n",
    "# define models and parameters\n",
    "model = LogisticRegression()\n",
    "solvers = ['newton-cg', 'lbfgs', 'liblinear']\n",
    "penalty = ['l2', \"l1\"]\n",
    "c_values = [70, 100, 60, 50, 20, 30, 10, 1.0, 0.1, 0.01]\n",
    "\n",
    "# define grid search\n",
    "grid = dict(solver=solvers,penalty=penalty,C=c_values)\n",
    "cv = RepeatedStratifiedKFold(n_splits=10, n_repeats=3, random_state=1)\n",
    "grid_search = GridSearchCV(estimator=model, param_grid=grid, n_jobs=-1, cv=cv, scoring='accuracy',error_score=0)\n",
    "grid_result = grid_search.fit(irish.data, irish.target)\n",
    "\n",
    "# summarize results\n",
    "print(\"Best: %f using %s\" % (grid_result.best_score_, grid_result.best_params_))\n",
    "means = grid_result.cv_results_['mean_test_score']\n",
    "stds = grid_result.cv_results_['std_test_score']\n",
    "params = grid_result.cv_results_['params']\n",
    "for mean, stdev, param in zip(means, stds, params):\n",
    "    print(\"%f (%f) with: %r\" % (mean, stdev, param))"
   ]
  },
  {
   "attachments": {},
   "cell_type": "markdown",
   "metadata": {},
   "source": [
    "make logistic regression algorithm and set best parameters tuning"
   ]
  },
  {
   "cell_type": "code",
   "execution_count": 57,
   "metadata": {},
   "outputs": [
    {
     "name": "stderr",
     "output_type": "stream",
     "text": [
      "c:\\Users\\hilla\\anaconda3\\lib\\site-packages\\sklearn\\linear_model\\_logistic.py:763: ConvergenceWarning: lbfgs failed to converge (status=1):\n",
      "STOP: TOTAL NO. of ITERATIONS REACHED LIMIT.\n",
      "\n",
      "Increase the number of iterations (max_iter) or scale the data as shown in:\n",
      "    https://scikit-learn.org/stable/modules/preprocessing.html\n",
      "Please also refer to the documentation for alternative solver options:\n",
      "    https://scikit-learn.org/stable/modules/linear_model.html#logistic-regression\n",
      "  n_iter_i = _check_optimize_result(\n"
     ]
    },
    {
     "data": {
      "text/plain": [
       "1.0"
      ]
     },
     "execution_count": 57,
     "metadata": {},
     "output_type": "execute_result"
    }
   ],
   "source": [
    "#module\n",
    "lrmulti = LogisticRegression(C=50, penalty=\"l2\", solver=\"lbfgs\", random_state=10)\n",
    "lrmulti.fit(xtr, ytr)\n",
    "lrmulti.predict(xte)\n",
    "lrmulti.score(xte, yte)"
   ]
  },
  {
   "attachments": {},
   "cell_type": "markdown",
   "metadata": {},
   "source": [
    "Algorithm report - confussion matrix and classification report"
   ]
  },
  {
   "cell_type": "code",
   "execution_count": 58,
   "metadata": {},
   "outputs": [
    {
     "name": "stdout",
     "output_type": "stream",
     "text": [
      "              precision    recall  f1-score   support\n",
      "\n",
      "           0       1.00      1.00      1.00        16\n",
      "           1       1.00      1.00      1.00        16\n",
      "           2       1.00      1.00      1.00        13\n",
      "\n",
      "    accuracy                           1.00        45\n",
      "   macro avg       1.00      1.00      1.00        45\n",
      "weighted avg       1.00      1.00      1.00        45\n",
      "\n"
     ]
    },
    {
     "data": {
      "image/png": "[encoded data removed]",
      "text/plain": [
       "<Figure size 720x504 with 2 Axes>"
      ]
     },
     "metadata": {},
     "output_type": "display_data"
    }
   ],
   "source": [
    "#needed module\n",
    "import seaborn as sns\n",
    "from sklearn.metrics import confusion_matrix, classification_report\n",
    "import matplotlib.pyplot as plt \n",
    "\n",
    "#cm\n",
    "plt.figure(figsize=(10, 7))\n",
    "sns.heatmap(confusion_matrix(lrmulti.predict(xte), yte), annot=True)\n",
    "plt.xlabel(\"prediction\")\n",
    "plt.ylabel(\"truth value\")\n",
    "\n",
    "#classification report\n",
    "print(classification_report(yte, lrmulti.predict(xte)))"
   ]
  }
 ],
 "metadata": {
  "kernelspec": {
   "display_name": "base",
   "language": "python",
   "name": "python3"
  },
  "language_info": {
   "codemirror_mode": {
    "name": "ipython",
    "version": 3
   },
   "file_extension": ".py",
   "mimetype": "text/x-python",
   "name": "python",
   "nbconvert_exporter": "python",
   "pygments_lexer": "ipython3",
   "version": "3.8.8"
  },
  "orig_nbformat": 4,
  "vscode": {
   "interpreter": {
    "hash": "2c0848194679cc856cdb22afd850d5f70cd56543c051b91d6fd67c617f7ae4ab"
   }
  }
 },
 "nbformat": 4,
 "nbformat_minor": 2
}
